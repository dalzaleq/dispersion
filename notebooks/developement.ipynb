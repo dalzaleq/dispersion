{
 "cells": [
  {
   "cell_type": "code",
   "execution_count": 8,
   "metadata": {},
   "outputs": [
    {
     "name": "stdout",
     "output_type": "stream",
     "text": [
      "The autoreload extension is already loaded. To reload it, use:\n",
      "  %reload_ext autoreload\n",
      "<dispersion.spectral_data.Interpolation object at 0x000001AF9A764668>\n",
      "<dispersion.spectral_data.Interpolation object at 0x000001AF9A7646D8>\n"
     ]
    }
   ],
   "source": [
    "%load_ext autoreload\n",
    "%autoreload 2\n",
    "\n",
    "import matplotlib.pyplot as plt\n",
    "import numpy as np\n",
    "from scipy.interpolate import interp1d, splrep, splev\n",
    "import dispersion\n",
    "from dispersion import Catalogue\n",
    "from dispersion import Material\n",
    "#from refractive_index_database import get_permittivity\n",
    "from dispersion import get_config\n",
    "from dispersion import Spectrum\n",
    "#from dispersion import get_permittivity\n",
    "from dispersion import Interpolation, Extrapolation, Sellmeier\n",
    "from dispersion import Writer\n",
    "import os\n",
    "\n",
    "test_data = np.array([[400., 1.7, 0.1],\n",
    "                       [500., 1.6, 0.05],\n",
    "                       [600., 1.5, 0.0]])\n",
    "\n",
    "test_n = np.array([[400., 1.7],\n",
    "                       [500., 1.6],\n",
    "                       [600., 1.5]])\n",
    "\n",
    "model_params = {'name': 'Sellmeier', 'specrtrum_type':'wavelength', 'unit':'micrometer', 'valid_range':np.array([0.361,5.135]),\n",
    "                'parameters': np.array([0, 1.347091, 0.062543, 2.117788, 0.166739, 9.452943, 24.320570])}\n",
    "  \n",
    "\n",
    "    \n",
    "\n",
    "mat = Material(tabulated_nk=test_data,\n",
    "               spectrum_type='wavelength', unit='nanometer')\n",
    "mat.meta_data['Reference'] = \"Literature reference to the data\"\n",
    "mat.meta_data['Comment'] = \"Any additional information goes here\"\n",
    "mat.meta_data['Name'] = \"Short name of the material\"\n",
    "mat.meta_data['FullName'] = \"Full name of the material\"\n",
    "mat.meta_data['Author'] = \"The author of this dataset\"\n",
    "\n",
    "\n",
    "mat2 = Material(model_kw=model_params, spectrum_type='wavelength', unit='micrometer')\n",
    "mat2.meta_data['Reference'] = \"D. L Wood and K. Nassau. Refractive index of cubic zirconia stabilized with yttria, <a href=\\\"https://doi.org/10.1364/AO.21.002978\\\"><i>Appl. Opt.</i> <b>21</b>, 2978-2981 (1982)</a>\"\n",
    "mat2.meta_data['Comment'] = \"Cubic zirconiza; 25 °C; Y<sub>2</sub>O<sub>3</sub> content: 12.0 mol %\"\n",
    "mat2.meta_data['MetaComment'] = \" this file is part of refractiveindex.info database\\n refractiveindex.info database is in the public domain\\n copyright and related rights waived via CC0 1.0\"\n",
    "mat2.meta_data['Specification'] = {'temperature': '25 $\\degree$C',\n",
    "                                   'film_thickness': '100 nm'}\n",
    "\n",
    "cwd = os.getcwd()\n",
    "filepath = os.path.join(cwd, \"testfile.txt\")\n",
    "#print(list(mat2.meta_data.keys()))\n",
    "\n",
    "write = Writer(filepath, mat)\n",
    "write.write_file( use_rii_aliases=False)\n"
   ]
  },
  {
   "cell_type": "code",
   "execution_count": 28,
   "metadata": {},
   "outputs": [
    {
     "name": "stdout",
     "output_type": "stream",
     "text": [
      "Building UserData\n"
     ]
    },
    {
     "data": {
      "application/vnd.jupyter.widget-view+json": {
       "model_id": "5f0163888c1446bdb708da1d61c37d84",
       "version_major": 2,
       "version_minor": 0
      },
      "text/plain": [
       "QgridWidget(grid_options={'fullWidthRows': True, 'syncColumnCellResize': True, 'forceFitColumns': True, 'defau…"
      ]
     },
     "metadata": {},
     "output_type": "display_data"
    }
   ],
   "source": [
    "cat = Catalogue(rebuild =['UserData'])\n",
    "cat.edit_interactive()"
   ]
  },
  {
   "cell_type": "code",
   "execution_count": 22,
   "metadata": {},
   "outputs": [
    {
     "name": "stdout",
     "output_type": "stream",
     "text": [
      "[400. 600.]\n"
     ]
    }
   ],
   "source": [
    "cwd = os.getcwd()\n",
    "test_mat = Material(file_path='testfile.txt')\n",
    "print(test_mat.get_maximum_valid_range())\n",
    "#for item in test_mat._file_data['MetaData'].items():\n",
    "#    print(\"{}:{}\".format(item[0],item[1]))\n",
    "write2 = Writer(os.path.join(cwd, \"testfile2.txt\"), test_mat)\n",
    "write2.write_file()"
   ]
  },
  {
   "cell_type": "code",
   "execution_count": 9,
   "metadata": {},
   "outputs": [
    {
     "name": "stdout",
     "output_type": "stream",
     "text": [
      "<dispersion.spectral_data.Interpolation object at 0x0000024C0AE5BEF0>\n",
      "<dispersion.spectral_data.Interpolation object at 0x0000024C0DF51748>\n"
     ]
    },
    {
     "ename": "ValueError",
     "evalue": "Expected 1D or 2D array, got 0D array instead",
     "output_type": "error",
     "traceback": [
      "\u001b[1;31m---------------------------------------------------------------------------\u001b[0m",
      "\u001b[1;31mValueError\u001b[0m                                Traceback (most recent call last)",
      "\u001b[1;32m<ipython-input-9-6872eb447298>\u001b[0m in \u001b[0;36m<module>\u001b[1;34m\u001b[0m\n\u001b[0;32m     16\u001b[0m     \u001b[0mwrite\u001b[0m \u001b[1;33m=\u001b[0m \u001b[0mWriter\u001b[0m\u001b[1;33m(\u001b[0m\u001b[0mfilepath\u001b[0m\u001b[1;33m,\u001b[0m \u001b[0mmat\u001b[0m\u001b[1;33m)\u001b[0m\u001b[1;33m\u001b[0m\u001b[1;33m\u001b[0m\u001b[0m\n\u001b[0;32m     17\u001b[0m     \u001b[0mwrite\u001b[0m\u001b[1;33m.\u001b[0m\u001b[0mwrite_file\u001b[0m\u001b[1;33m(\u001b[0m\u001b[1;33m)\u001b[0m\u001b[1;33m\u001b[0m\u001b[1;33m\u001b[0m\u001b[0m\n\u001b[1;32m---> 18\u001b[1;33m \u001b[0mmake_example_txt\u001b[0m\u001b[1;33m(\u001b[0m\u001b[0mcwd\u001b[0m\u001b[1;33m)\u001b[0m\u001b[1;33m\u001b[0m\u001b[1;33m\u001b[0m\u001b[0m\n\u001b[0m",
      "\u001b[1;32m<ipython-input-9-6872eb447298>\u001b[0m in \u001b[0;36mmake_example_txt\u001b[1;34m(dir)\u001b[0m\n\u001b[0;32m     15\u001b[0m     \u001b[0mfilepath\u001b[0m \u001b[1;33m=\u001b[0m \u001b[0mos\u001b[0m\u001b[1;33m.\u001b[0m\u001b[0mpath\u001b[0m\u001b[1;33m.\u001b[0m\u001b[0mjoin\u001b[0m\u001b[1;33m(\u001b[0m\u001b[0mdir\u001b[0m\u001b[1;33m,\u001b[0m \u001b[1;34m\"example_file.txt\"\u001b[0m\u001b[1;33m)\u001b[0m\u001b[1;33m\u001b[0m\u001b[1;33m\u001b[0m\u001b[0m\n\u001b[0;32m     16\u001b[0m     \u001b[0mwrite\u001b[0m \u001b[1;33m=\u001b[0m \u001b[0mWriter\u001b[0m\u001b[1;33m(\u001b[0m\u001b[0mfilepath\u001b[0m\u001b[1;33m,\u001b[0m \u001b[0mmat\u001b[0m\u001b[1;33m)\u001b[0m\u001b[1;33m\u001b[0m\u001b[1;33m\u001b[0m\u001b[0m\n\u001b[1;32m---> 17\u001b[1;33m     \u001b[0mwrite\u001b[0m\u001b[1;33m.\u001b[0m\u001b[0mwrite_file\u001b[0m\u001b[1;33m(\u001b[0m\u001b[1;33m)\u001b[0m\u001b[1;33m\u001b[0m\u001b[1;33m\u001b[0m\u001b[0m\n\u001b[0m\u001b[0;32m     18\u001b[0m \u001b[0mmake_example_txt\u001b[0m\u001b[1;33m(\u001b[0m\u001b[0mcwd\u001b[0m\u001b[1;33m)\u001b[0m\u001b[1;33m\u001b[0m\u001b[1;33m\u001b[0m\u001b[0m\n",
      "\u001b[1;32md:\\documents\\work\\hzb\\scripts\\python\\dispersion\\src\\dispersion\\io.py\u001b[0m in \u001b[0;36mwrite_file\u001b[1;34m(self, ignore_constant, use_rii_aliases)\u001b[0m\n\u001b[0;32m    500\u001b[0m         \u001b[0mtxt_types\u001b[0m \u001b[1;33m=\u001b[0m \u001b[1;33m{\u001b[0m\u001b[1;34m'.txt'\u001b[0m\u001b[1;33m,\u001b[0m \u001b[1;34m'.csv'\u001b[0m\u001b[1;33m}\u001b[0m\u001b[1;33m\u001b[0m\u001b[1;33m\u001b[0m\u001b[0m\n\u001b[0;32m    501\u001b[0m         \u001b[1;32mif\u001b[0m \u001b[0mself\u001b[0m\u001b[1;33m.\u001b[0m\u001b[0mextension\u001b[0m \u001b[1;32min\u001b[0m \u001b[0mtxt_types\u001b[0m\u001b[1;33m:\u001b[0m\u001b[1;33m\u001b[0m\u001b[1;33m\u001b[0m\u001b[0m\n\u001b[1;32m--> 502\u001b[1;33m             \u001b[0mself\u001b[0m\u001b[1;33m.\u001b[0m\u001b[0m_write_text_file\u001b[0m\u001b[1;33m(\u001b[0m\u001b[1;33m)\u001b[0m\u001b[1;33m\u001b[0m\u001b[1;33m\u001b[0m\u001b[0m\n\u001b[0m\u001b[0;32m    503\u001b[0m             \u001b[1;32mif\u001b[0m \u001b[1;32mnot\u001b[0m \u001b[0mmeta_comment\u001b[0m \u001b[1;33m==\u001b[0m \u001b[1;34m\"\"\u001b[0m\u001b[1;33m:\u001b[0m\u001b[1;33m\u001b[0m\u001b[1;33m\u001b[0m\u001b[0m\n\u001b[0;32m    504\u001b[0m                 \u001b[0mprepend_text_to_file\u001b[0m\u001b[1;33m(\u001b[0m\u001b[0mself\u001b[0m\u001b[1;33m.\u001b[0m\u001b[0mfile_path\u001b[0m\u001b[1;33m,\u001b[0m \u001b[0mmeta_comment\u001b[0m\u001b[1;33m)\u001b[0m\u001b[1;33m\u001b[0m\u001b[1;33m\u001b[0m\u001b[0m\n",
      "\u001b[1;32md:\\documents\\work\\hzb\\scripts\\python\\dispersion\\src\\dispersion\\io.py\u001b[0m in \u001b[0;36m_write_text_file\u001b[1;34m(self)\u001b[0m\n\u001b[0;32m    551\u001b[0m         np.savetxt(self.file_path, multi_key(data_dict,{'data', 'Data'}),\n\u001b[0;32m    552\u001b[0m                    \u001b[0mdelimiter\u001b[0m\u001b[1;33m=\u001b[0m\u001b[0mdelimiter\u001b[0m\u001b[1;33m,\u001b[0m\u001b[1;33m\u001b[0m\u001b[1;33m\u001b[0m\u001b[0m\n\u001b[1;32m--> 553\u001b[1;33m                    header=header)\n\u001b[0m\u001b[0;32m    554\u001b[0m \u001b[1;33m\u001b[0m\u001b[0m\n\u001b[0;32m    555\u001b[0m \u001b[1;33m\u001b[0m\u001b[0m\n",
      "\u001b[1;32m~\\AppData\\Local\\conda\\conda\\envs\\Python3.6\\lib\\site-packages\\numpy\\lib\\npyio.py\u001b[0m in \u001b[0;36msavetxt\u001b[1;34m(fname, X, fmt, delimiter, newline, header, footer, comments, encoding)\u001b[0m\n\u001b[0;32m   1375\u001b[0m         \u001b[1;32mif\u001b[0m \u001b[0mX\u001b[0m\u001b[1;33m.\u001b[0m\u001b[0mndim\u001b[0m \u001b[1;33m==\u001b[0m \u001b[1;36m0\u001b[0m \u001b[1;32mor\u001b[0m \u001b[0mX\u001b[0m\u001b[1;33m.\u001b[0m\u001b[0mndim\u001b[0m \u001b[1;33m>\u001b[0m \u001b[1;36m2\u001b[0m\u001b[1;33m:\u001b[0m\u001b[1;33m\u001b[0m\u001b[1;33m\u001b[0m\u001b[0m\n\u001b[0;32m   1376\u001b[0m             raise ValueError(\n\u001b[1;32m-> 1377\u001b[1;33m                 \"Expected 1D or 2D array, got %dD array instead\" % X.ndim)\n\u001b[0m\u001b[0;32m   1378\u001b[0m         \u001b[1;32melif\u001b[0m \u001b[0mX\u001b[0m\u001b[1;33m.\u001b[0m\u001b[0mndim\u001b[0m \u001b[1;33m==\u001b[0m \u001b[1;36m1\u001b[0m\u001b[1;33m:\u001b[0m\u001b[1;33m\u001b[0m\u001b[1;33m\u001b[0m\u001b[0m\n\u001b[0;32m   1379\u001b[0m             \u001b[1;31m# Common case -- 1d array of numbers\u001b[0m\u001b[1;33m\u001b[0m\u001b[1;33m\u001b[0m\u001b[1;33m\u001b[0m\u001b[0m\n",
      "\u001b[1;31mValueError\u001b[0m: Expected 1D or 2D array, got 0D array instead"
     ]
    }
   ],
   "source": [
    "def make_example_txt(dir):\n",
    "    test_data = np.array([[400., 1.7, 0.1],\n",
    "                          [500., 1.6, 0.05],\n",
    "                          [600., 1.5, 0.0]])\n",
    "    mat = Material(tabulated_nk=test_data,\n",
    "                   spectrum_type='wavelength', unit='nanometer')\n",
    "    mat.meta_data['Reference'] = \"Literature reference to the data\"\n",
    "    mat.meta_data['Comment'] = \"Any additional information goes here\"\n",
    "    mat.meta_data['Name'] = \"Short name of the material\"\n",
    "    mat.meta_data['FullName'] = \"Full name of the material\"\n",
    "    mat.meta_data['Author'] = \"The author of this dataset\"\n",
    "    mat.meta_data['MetaComment'] = [\" This is a multiline meta-comment\\n\" +\n",
    "                                    \" which provides information not\\n\" +\n",
    "                                    \" in metadata\"]\n",
    "    filepath = os.path.join(dir, \"example_file.txt\")\n",
    "    \n",
    "    #write = Writer(filepath, mat)\n",
    "    #write.write_file()\n",
    "make_example_txt(cwd)"
   ]
  },
  {
   "cell_type": "code",
   "execution_count": 11,
   "metadata": {},
   "outputs": [
    {
     "name": "stdout",
     "output_type": "stream",
     "text": [
      "{'DataType': 'model Sellmeier', 'ValidRange': '0.35 2.', 'SpectrumType': 'wavelength', 'Unit': 'micrometer', 'Yields': 'n', 'Parameters': '0.    1.    0.05  2.    0.1  10.   25.'}\n",
      "{'DataType': 'tabulated', 'ValidRange': '400. 600.', 'SpectrumType': 'wavelength', 'Unit': 'nm', 'Data': '4.e+02 1.e-01\\n5.e+02 5.e-02\\n6.e+02 0.e+00'}\n"
     ]
    }
   ],
   "source": [
    "def make_example_yaml(dir_path):\n",
    "    model_params = {'name': 'Sellmeier',\n",
    "                    'specrtrum_type':'wavelength',\n",
    "                    'unit':'micrometer',\n",
    "                    'valid_range':np.array([0.350, 2.0]),\n",
    "                    'parameters': np.array([0, 1.0, 0.05,\n",
    "                                            2.0, 0.1,\n",
    "                                            10., 25.])}\n",
    "    mat = Material(model_kw=model_params, spectrum_type='wavelength', unit='micrometer')\n",
    "    mat.meta_data['Reference'] = \"Literature reference to the data\"\n",
    "    mat.meta_data['Comment'] = \"Any additional information goes here\"\n",
    "    mat.meta_data['Name'] = \"Short name of the material\"\n",
    "    mat.meta_data['FullName'] = \"Full name of the material\"\n",
    "    mat.meta_data['Author'] = \"The author of this dataset\"\n",
    "    mat.meta_data['MetaComment'] = \" This is a multiline meta-comment\\n\" + \\\n",
    "                                   \" which provides information not\\n\" + \\\n",
    "                                   \" in metadata\"\n",
    "    k_data = np.array([[400., 0.1],\n",
    "                          [500., 0.05],\n",
    "                          [600., 0.0]])\n",
    "    interp = Interpolation(k_data, unit='nm')\n",
    "    #print(mat.data['imag'])\n",
    "    mat.data['imag'] = interp    \n",
    "    \n",
    "    #print(mat.data['imag'])\n",
    "    \n",
    "    filepath = os.path.join(dir_path, \"example_file2.yml\")\n",
    "    write = Writer(filepath, mat)\n",
    "    write.write_file()\n",
    "make_example_yaml(cwd)"
   ]
  },
  {
   "cell_type": "code",
   "execution_count": 8,
   "metadata": {},
   "outputs": [
    {
     "name": "stdout",
     "output_type": "stream",
     "text": [
      "True\n",
      "{'EMOmega': 1, 'path': '', 'name': ''}\n"
     ]
    },
    {
     "ename": "ValueError",
     "evalue": "input EMOmega must be of types {<class 'complex'>, <class 'float'>}",
     "output_type": "error",
     "traceback": [
      "\u001b[1;31m---------------------------------------------------------------------------\u001b[0m",
      "\u001b[1;31mValueError\u001b[0m                                Traceback (most recent call last)",
      "\u001b[1;32m<ipython-input-8-21e5adbf91a2>\u001b[0m in \u001b[0;36m<module>\u001b[1;34m\u001b[0m\n\u001b[0;32m      1\u001b[0m \u001b[0minputs\u001b[0m \u001b[1;33m=\u001b[0m \u001b[1;33m{\u001b[0m\u001b[1;34m'EMOmega'\u001b[0m\u001b[1;33m:\u001b[0m\u001b[1;36m1\u001b[0m\u001b[1;33m,\u001b[0m \u001b[1;34m'path'\u001b[0m\u001b[1;33m:\u001b[0m\u001b[1;34m\"\"\u001b[0m\u001b[1;33m,\u001b[0m \u001b[1;34m'name'\u001b[0m\u001b[1;33m:\u001b[0m\u001b[1;34m\"\"\u001b[0m\u001b[1;33m}\u001b[0m\u001b[1;33m\u001b[0m\u001b[1;33m\u001b[0m\u001b[0m\n\u001b[0;32m      2\u001b[0m \u001b[0mprint\u001b[0m\u001b[1;33m(\u001b[0m\u001b[1;32mnot\u001b[0m \u001b[0many\u001b[0m\u001b[1;33m(\u001b[0m\u001b[0misinstance\u001b[0m\u001b[1;33m(\u001b[0m\u001b[0minputs\u001b[0m\u001b[1;33m[\u001b[0m\u001b[1;34m'EMOmega'\u001b[0m\u001b[1;33m]\u001b[0m\u001b[1;33m,\u001b[0m \u001b[0mval\u001b[0m\u001b[1;33m)\u001b[0m \u001b[1;32mfor\u001b[0m \u001b[0mval\u001b[0m \u001b[1;32min\u001b[0m \u001b[1;33m{\u001b[0m\u001b[0mfloat\u001b[0m\u001b[1;33m,\u001b[0m \u001b[0mcomplex\u001b[0m\u001b[1;33m}\u001b[0m\u001b[1;33m)\u001b[0m\u001b[1;33m)\u001b[0m\u001b[1;33m\u001b[0m\u001b[1;33m\u001b[0m\u001b[0m\n\u001b[1;32m----> 3\u001b[1;33m \u001b[0mget_permittivity\u001b[0m\u001b[1;33m(\u001b[0m\u001b[0minputs\u001b[0m\u001b[1;33m)\u001b[0m\u001b[1;33m\u001b[0m\u001b[1;33m\u001b[0m\u001b[0m\n\u001b[0m",
      "\u001b[1;32md:\\documents\\work\\hzb\\scripts\\python\\refractive_index_database\\src\\refractive_index_database\\jcm_interface.py\u001b[0m in \u001b[0;36mget_permittivity\u001b[1;34m(inputs)\u001b[0m\n\u001b[0;32m     23\u001b[0m     \u001b[1;32mif\u001b[0m \u001b[1;32mnot\u001b[0m \u001b[0mcorrect_type\u001b[0m\u001b[1;33m:\u001b[0m\u001b[1;33m\u001b[0m\u001b[1;33m\u001b[0m\u001b[0m\n\u001b[0;32m     24\u001b[0m         raise ValueError(\"input EMOmega must be\" +\n\u001b[1;32m---> 25\u001b[1;33m                          \" of types {}\".format({float, complex}))\n\u001b[0m\u001b[0;32m     26\u001b[0m \u001b[1;33m\u001b[0m\u001b[0m\n\u001b[0;32m     27\u001b[0m     \u001b[1;32mfrom\u001b[0m \u001b[0mrefractive_index_database\u001b[0m\u001b[1;33m.\u001b[0m\u001b[0mconfig\u001b[0m \u001b[1;32mimport\u001b[0m \u001b[0mget_config\u001b[0m\u001b[1;33m\u001b[0m\u001b[1;33m\u001b[0m\u001b[0m\n",
      "\u001b[1;31mValueError\u001b[0m: input EMOmega must be of types {<class 'complex'>, <class 'float'>}"
     ]
    }
   ],
   "source": [
    "inputs = {'EMOmega':1, 'path':\"\", 'name':\"\"}\n",
    "print(not any(isinstance(inputs['EMOmega'], val) for val in {float, complex}))\n",
    "get_permittivity(inputs)"
   ]
  },
  {
   "cell_type": "code",
   "execution_count": 11,
   "metadata": {},
   "outputs": [
    {
     "name": "stdout",
     "output_type": "stream",
     "text": [
      "{'Path': 'D:\\\\Documents\\\\Work\\\\HZB\\\\Scripts\\\\Python\\\\refractive_index_database\\\\data', 'File': 'catalogue.csv', 'Interactive': True, 'Modules': {'UserData': True, 'RefractiveIndexInfo': True, 'Filmetrics': True}, 'ReferenceSpectrum': {'Value': 632.8, 'SpectrumType': 'wavelength', 'Unit': 'nanometer'}}\n"
     ]
    },
    {
     "ename": "NameError",
     "evalue": "name 'print_yaml_string' is not defined",
     "output_type": "error",
     "traceback": [
      "\u001b[1;31m---------------------------------------------------------------------------\u001b[0m",
      "\u001b[1;31mNameError\u001b[0m                                 Traceback (most recent call last)",
      "\u001b[1;32m<ipython-input-11-0a9fd4426557>\u001b[0m in \u001b[0;36m<module>\u001b[1;34m\u001b[0m\n\u001b[0;32m      1\u001b[0m \u001b[0mconfig\u001b[0m \u001b[1;33m=\u001b[0m \u001b[0mget_config\u001b[0m\u001b[1;33m(\u001b[0m\u001b[1;33m)\u001b[0m\u001b[1;33m\u001b[0m\u001b[1;33m\u001b[0m\u001b[0m\n\u001b[0;32m      2\u001b[0m \u001b[0mprint\u001b[0m\u001b[1;33m(\u001b[0m\u001b[0mconfig\u001b[0m\u001b[1;33m)\u001b[0m\u001b[1;33m\u001b[0m\u001b[1;33m\u001b[0m\u001b[0m\n\u001b[1;32m----> 3\u001b[1;33m \u001b[0mprint_yaml_string\u001b[0m\u001b[1;33m(\u001b[0m\u001b[0mconfig\u001b[0m\u001b[1;33m)\u001b[0m\u001b[1;33m\u001b[0m\u001b[1;33m\u001b[0m\u001b[0m\n\u001b[0m",
      "\u001b[1;31mNameError\u001b[0m: name 'print_yaml_string' is not defined"
     ]
    }
   ],
   "source": [
    "config = get_config()\n",
    "print(config)\n",
    "print_yaml_string(config)"
   ]
  },
  {
   "cell_type": "code",
   "execution_count": 12,
   "metadata": {},
   "outputs": [
    {
     "data": {
      "image/png": "[encoded data removed]",
      "text/plain": [
       "<Figure size 432x288 with 1 Axes>"
      ]
     },
     "metadata": {
      "needs_background": "light"
     },
     "output_type": "display_data"
    }
   ],
   "source": [
    "wvls = np.arange(300,410,10)\n",
    "n = np.ones(wvls.shape)\n",
    "k = np.zeros(wvls.shape)\n",
    "data = np.vstack([wvls,n,k]).T\n",
    "\n",
    "mat = MaterialData(tabulated_nk=data)\n",
    "mat._plot_data('nk')"
   ]
  },
  {
   "cell_type": "code",
   "execution_count": 6,
   "metadata": {},
   "outputs": [
    {
     "name": "stdout",
     "output_type": "stream",
     "text": [
      "(3.075384536082474+0j)\n"
     ]
    },
    {
     "data": {
      "image/png": "[encoded data removed]",
      "text/plain": [
       "<Figure size 432x288 with 1 Axes>"
      ]
     },
     "metadata": {
      "needs_background": "light"
     },
     "output_type": "display_data"
    }
   ],
   "source": [
    "mdb = MaterialDatabase()\n",
    "aSi = mdb.get_material(\"Nickel\")\n",
    "mat = aSi\n",
    "mat.remove_absorption()\n",
    "extended_spectrum = Spectrum(1200.0,unit='nanometer')\n",
    "#mat.extrapolate(extended_spectrum,spline_order=1)\n",
    "spectrum = Spectrum(1200.0,unit='nanometer')\n",
    "mat._plot_data('nk')\n",
    "print(mat.get_nk_data(spectrum))"
   ]
  },
  {
   "cell_type": "code",
   "execution_count": 10,
   "metadata": {},
   "outputs": [
    {
     "name": "stdout",
     "output_type": "stream",
     "text": [
      "{'MetaData': {'FullName': '', 'Author': '', 'Reference': 'A. D. Rakić, A. B. Djurišic, J. M. Elazar, and M. L. Majewski. Optical properties of metallic films for vertical-cavity optoelectronic devices, <a href=\"https://doi.org/10.1364/AO.37.005271\"><i>Appl. Opt.</i> <b>37</b>, 5271-5283 (1998)</a><br>[<a href=\"https://github.com/polyanskiy/refractiveindex.info-scripts/blob/master/scripts/Rakic%201998%20-%20Ni%20(BB%20model).py\">Calculation script (Python)</a>]', 'Comment': 'Fit of experimental data from several sources to Brendel-Bormann (BB) model', 'Name': ''}, 'Datasets': [{'MetaData': {'Unit': '', 'SpectrumType': '', 'ValidRange': '', 'DataType': 'tabulated nk'}, 'Data': array([[ 0.24797,  1.4724 ,  2.0065 ],\n",
      "       [ 0.25201,  1.5068 ,  2.0205 ],\n",
      "       [ 0.25612,  1.5408 ,  2.0308 ],\n",
      "       [ 0.2603 ,  1.5737 ,  2.0373 ],\n",
      "       [ 0.26454,  1.6046 ,  2.0403 ],\n",
      "       [ 0.26886,  1.633  ,  2.0404 ],\n",
      "       [ 0.27324,  1.6585 ,  2.0378 ],\n",
      "       [ 0.2777 ,  1.6804 ,  2.0333 ],\n",
      "       [ 0.28222,  1.6987 ,  2.0275 ],\n",
      "       [ 0.28683,  1.713  ,  2.0211 ],\n",
      "       [ 0.2915 ,  1.7234 ,  2.0146 ],\n",
      "       [ 0.29626,  1.7299 ,  2.0088 ],\n",
      "       [ 0.30109,  1.7327 ,  2.0042 ],\n",
      "       [ 0.306  ,  1.7321 ,  2.0015 ],\n",
      "       [ 0.31099,  1.7284 ,  2.001  ],\n",
      "       [ 0.31606,  1.7221 ,  2.0032 ],\n",
      "       [ 0.32121,  1.7136 ,  2.0084 ],\n",
      "       [ 0.32645,  1.7034 ,  2.0167 ],\n",
      "       [ 0.33177,  1.6919 ,  2.0283 ],\n",
      "       [ 0.33718,  1.6796 ,  2.0433 ],\n",
      "       [ 0.34268,  1.667  ,  2.0616 ],\n",
      "       [ 0.34827,  1.6545 ,  2.0832 ],\n",
      "       [ 0.35395,  1.6424 ,  2.1077 ],\n",
      "       [ 0.35972,  1.6311 ,  2.1352 ],\n",
      "       [ 0.36559,  1.6207 ,  2.1654 ],\n",
      "       [ 0.37155,  1.6116 ,  2.198  ],\n",
      "       [ 0.37761,  1.6039 ,  2.2327 ],\n",
      "       [ 0.38377,  1.5977 ,  2.2695 ],\n",
      "       [ 0.39002,  1.593  ,  2.3079 ],\n",
      "       [ 0.39638,  1.59   ,  2.3479 ],\n",
      "       [ 0.40285,  1.5886 ,  2.3891 ],\n",
      "       [ 0.40942,  1.5889 ,  2.4315 ],\n",
      "       [ 0.41609,  1.5908 ,  2.4747 ],\n",
      "       [ 0.42288,  1.5942 ,  2.5188 ],\n",
      "       [ 0.42977,  1.5991 ,  2.5635 ],\n",
      "       [ 0.43678,  1.6055 ,  2.6088 ],\n",
      "       [ 0.4439 ,  1.6133 ,  2.6545 ],\n",
      "       [ 0.45114,  1.6224 ,  2.7005 ],\n",
      "       [ 0.4585 ,  1.6328 ,  2.7468 ],\n",
      "       [ 0.46598,  1.6443 ,  2.7934 ],\n",
      "       [ 0.47358,  1.657  ,  2.8401 ],\n",
      "       [ 0.4813 ,  1.6708 ,  2.8869 ],\n",
      "       [ 0.48915,  1.6856 ,  2.9338 ],\n",
      "       [ 0.49712,  1.7013 ,  2.9807 ],\n",
      "       [ 0.50523,  1.7179 ,  3.0277 ],\n",
      "       [ 0.51347,  1.7354 ,  3.0747 ],\n",
      "       [ 0.52184,  1.7536 ,  3.1216 ],\n",
      "       [ 0.53035,  1.7726 ,  3.1686 ],\n",
      "       [ 0.539  ,  1.7923 ,  3.2156 ],\n",
      "       [ 0.54779,  1.8127 ,  3.2625 ],\n",
      "       [ 0.55672,  1.8337 ,  3.3094 ],\n",
      "       [ 0.5658 ,  1.8552 ,  3.3562 ],\n",
      "       [ 0.57503,  1.8773 ,  3.4031 ],\n",
      "       [ 0.5844 ,  1.9    ,  3.4499 ],\n",
      "       [ 0.59393,  1.923  ,  3.4967 ],\n",
      "       [ 0.60362,  1.9466 ,  3.5434 ],\n",
      "       [ 0.61346,  1.9705 ,  3.5902 ],\n",
      "       [ 0.62346,  1.9949 ,  3.6369 ],\n",
      "       [ 0.63363,  2.0196 ,  3.6837 ],\n",
      "       [ 0.64396,  2.0446 ,  3.7305 ],\n",
      "       [ 0.65446,  2.07   ,  3.7773 ],\n",
      "       [ 0.66514,  2.0956 ,  3.8241 ],\n",
      "       [ 0.67598,  2.1215 ,  3.871  ],\n",
      "       [ 0.68701,  2.1476 ,  3.9179 ],\n",
      "       [ 0.69821,  2.174  ,  3.965  ],\n",
      "       [ 0.70959,  2.2006 ,  4.012  ],\n",
      "       [ 0.72117,  2.2273 ,  4.0592 ],\n",
      "       [ 0.73292,  2.2543 ,  4.1065 ],\n",
      "       [ 0.74488,  2.2813 ,  4.1539 ],\n",
      "       [ 0.75702,  2.3085 ,  4.2015 ],\n",
      "       [ 0.76937,  2.3358 ,  4.2492 ],\n",
      "       [ 0.78191,  2.3632 ,  4.2971 ],\n",
      "       [ 0.79466,  2.3907 ,  4.3451 ],\n",
      "       [ 0.80762,  2.4182 ,  4.3934 ],\n",
      "       [ 0.82079,  2.4458 ,  4.4418 ],\n",
      "       [ 0.83418,  2.4734 ,  4.4905 ],\n",
      "       [ 0.84778,  2.501  ,  4.5395 ],\n",
      "       [ 0.8616 ,  2.5287 ,  4.5887 ],\n",
      "       [ 0.87565,  2.5563 ,  4.6382 ],\n",
      "       [ 0.88993,  2.5839 ,  4.688  ],\n",
      "       [ 0.90445,  2.6115 ,  4.7381 ],\n",
      "       [ 0.91919,  2.639  ,  4.7885 ],\n",
      "       [ 0.93418,  2.6665 ,  4.8394 ],\n",
      "       [ 0.94942,  2.6938 ,  4.8905 ],\n",
      "       [ 0.9649 ,  2.7211 ,  4.9421 ],\n",
      "       [ 0.98063,  2.7483 ,  4.9941 ],\n",
      "       [ 0.99662,  2.7754 ,  5.0465 ],\n",
      "       [ 1.0129 ,  2.8024 ,  5.0994 ],\n",
      "       [ 1.0294 ,  2.8293 ,  5.1528 ],\n",
      "       [ 1.0462 ,  2.856  ,  5.2067 ],\n",
      "       [ 1.0632 ,  2.8825 ,  5.2611 ],\n",
      "       [ 1.0806 ,  2.9089 ,  5.316  ],\n",
      "       [ 1.0982 ,  2.9351 ,  5.3715 ],\n",
      "       [ 1.1161 ,  2.9612 ,  5.4276 ],\n",
      "       [ 1.1343 ,  2.9871 ,  5.4843 ],\n",
      "       [ 1.1528 ,  3.0127 ,  5.5417 ],\n",
      "       [ 1.1716 ,  3.0382 ,  5.5997 ],\n",
      "       [ 1.1907 ,  3.0634 ,  5.6584 ],\n",
      "       [ 1.2101 ,  3.0884 ,  5.7178 ],\n",
      "       [ 1.2299 ,  3.1132 ,  5.7779 ],\n",
      "       [ 1.2499 ,  3.1377 ,  5.8389 ],\n",
      "       [ 1.2703 ,  3.162  ,  5.9006 ],\n",
      "       [ 1.291  ,  3.1861 ,  5.9631 ],\n",
      "       [ 1.3121 ,  3.2098 ,  6.0265 ],\n",
      "       [ 1.3335 ,  3.2333 ,  6.0908 ],\n",
      "       [ 1.3552 ,  3.2565 ,  6.1559 ],\n",
      "       [ 1.3773 ,  3.2795 ,  6.222  ],\n",
      "       [ 1.3998 ,  3.3021 ,  6.2891 ],\n",
      "       [ 1.4226 ,  3.3245 ,  6.3571 ],\n",
      "       [ 1.4458 ,  3.3465 ,  6.4262 ],\n",
      "       [ 1.4694 ,  3.3683 ,  6.4963 ],\n",
      "       [ 1.4933 ,  3.3897 ,  6.5675 ],\n",
      "       [ 1.5177 ,  3.4108 ,  6.6399 ],\n",
      "       [ 1.5424 ,  3.4316 ,  6.7133 ],\n",
      "       [ 1.5676 ,  3.4521 ,  6.788  ],\n",
      "       [ 1.5931 ,  3.4722 ,  6.8639 ],\n",
      "       [ 1.6191 ,  3.492  ,  6.941  ],\n",
      "       [ 1.6455 ,  3.5114 ,  7.0194 ],\n",
      "       [ 1.6723 ,  3.5306 ,  7.0992 ],\n",
      "       [ 1.6996 ,  3.5493 ,  7.1803 ],\n",
      "       [ 1.7273 ,  3.5677 ,  7.2628 ],\n",
      "       [ 1.7555 ,  3.5858 ,  7.3467 ],\n",
      "       [ 1.7841 ,  3.6035 ,  7.4321 ],\n",
      "       [ 1.8132 ,  3.6209 ,  7.5191 ],\n",
      "       [ 1.8428 ,  3.6379 ,  7.6075 ],\n",
      "       [ 1.8728 ,  3.6545 ,  7.6976 ],\n",
      "       [ 1.9034 ,  3.6708 ,  7.7892 ],\n",
      "       [ 1.9344 ,  3.6868 ,  7.8826 ],\n",
      "       [ 1.966  ,  3.7024 ,  7.9776 ],\n",
      "       [ 1.998  ,  3.7176 ,  8.0744 ],\n",
      "       [ 2.0306 ,  3.7325 ,  8.173  ],\n",
      "       [ 2.0637 ,  3.7471 ,  8.2735 ],\n",
      "       [ 2.0974 ,  3.7613 ,  8.3758 ],\n",
      "       [ 2.1316 ,  3.7751 ,  8.48   ],\n",
      "       [ 2.1663 ,  3.7886 ,  8.5862 ],\n",
      "       [ 2.2016 ,  3.8018 ,  8.6944 ],\n",
      "       [ 2.2375 ,  3.8147 ,  8.8047 ],\n",
      "       [ 2.274  ,  3.8272 ,  8.9171 ],\n",
      "       [ 2.3111 ,  3.8394 ,  9.0316 ],\n",
      "       [ 2.3488 ,  3.8513 ,  9.1483 ],\n",
      "       [ 2.3871 ,  3.8629 ,  9.2673 ],\n",
      "       [ 2.426  ,  3.8742 ,  9.3885 ],\n",
      "       [ 2.4656 ,  3.8853 ,  9.5121 ],\n",
      "       [ 2.5058 ,  3.896  ,  9.6381 ],\n",
      "       [ 2.5467 ,  3.9065 ,  9.7665 ],\n",
      "       [ 2.5882 ,  3.9167 ,  9.8974 ],\n",
      "       [ 2.6304 ,  3.9266 , 10.031  ],\n",
      "       [ 2.6733 ,  3.9364 , 10.167  ],\n",
      "       [ 2.7169 ,  3.9459 , 10.306  ],\n",
      "       [ 2.7612 ,  3.9552 , 10.447  ],\n",
      "       [ 2.8062 ,  3.9642 , 10.591  ],\n",
      "       [ 2.852  ,  3.9731 , 10.738  ],\n",
      "       [ 2.8985 ,  3.9819 , 10.888  ],\n",
      "       [ 2.9457 ,  3.9904 , 11.04   ],\n",
      "       [ 2.9938 ,  3.9988 , 11.196  ],\n",
      "       [ 3.0426 ,  4.0071 , 11.355  ],\n",
      "       [ 3.0922 ,  4.0153 , 11.516  ],\n",
      "       [ 3.1426 ,  4.0234 , 11.681  ],\n",
      "       [ 3.1939 ,  4.0314 , 11.849  ],\n",
      "       [ 3.246  ,  4.0393 , 12.021  ],\n",
      "       [ 3.2989 ,  4.0472 , 12.195  ],\n",
      "       [ 3.3527 ,  4.0551 , 12.373  ],\n",
      "       [ 3.4074 ,  4.063  , 12.554  ],\n",
      "       [ 3.4629 ,  4.0709 , 12.739  ],\n",
      "       [ 3.5194 ,  4.0788 , 12.927  ],\n",
      "       [ 3.5768 ,  4.0868 , 13.119  ],\n",
      "       [ 3.6351 ,  4.0948 , 13.315  ],\n",
      "       [ 3.6944 ,  4.103  , 13.514  ],\n",
      "       [ 3.7546 ,  4.1113 , 13.717  ],\n",
      "       [ 3.8159 ,  4.1197 , 13.923  ],\n",
      "       [ 3.8781 ,  4.1283 , 14.134  ],\n",
      "       [ 3.9413 ,  4.1371 , 14.349  ],\n",
      "       [ 4.0056 ,  4.1462 , 14.567  ],\n",
      "       [ 4.0709 ,  4.1554 , 14.79   ],\n",
      "       [ 4.1373 ,  4.165  , 15.016  ],\n",
      "       [ 4.2048 ,  4.1748 , 15.247  ],\n",
      "       [ 4.2733 ,  4.1849 , 15.483  ],\n",
      "       [ 4.343  ,  4.1955 , 15.722  ],\n",
      "       [ 4.4138 ,  4.2063 , 15.966  ],\n",
      "       [ 4.4858 ,  4.2176 , 16.214  ],\n",
      "       [ 4.5589 ,  4.2294 , 16.467  ],\n",
      "       [ 4.6333 ,  4.2416 , 16.725  ],\n",
      "       [ 4.7088 ,  4.2543 , 16.987  ],\n",
      "       [ 4.7856 ,  4.2675 , 17.254  ],\n",
      "       [ 4.8637 ,  4.2813 , 17.525  ],\n",
      "       [ 4.943  ,  4.2956 , 17.802  ],\n",
      "       [ 5.0236 ,  4.3106 , 18.083  ],\n",
      "       [ 5.1055 ,  4.3263 , 18.37   ],\n",
      "       [ 5.1888 ,  4.3426 , 18.661  ],\n",
      "       [ 5.2734 ,  4.3597 , 18.958  ],\n",
      "       [ 5.3594 ,  4.3776 , 19.26   ],\n",
      "       [ 5.4468 ,  4.3962 , 19.567  ],\n",
      "       [ 5.5356 ,  4.4157 , 19.88   ],\n",
      "       [ 5.6258 ,  4.436  , 20.198  ],\n",
      "       [ 5.7176 ,  4.4573 , 20.521  ],\n",
      "       [ 5.8108 ,  4.4795 , 20.85   ],\n",
      "       [ 5.9056 ,  4.5027 , 21.185  ],\n",
      "       [ 6.0019 ,  4.527  , 21.526  ],\n",
      "       [ 6.0997 ,  4.5523 , 21.873  ],\n",
      "       [ 6.1992 ,  4.5788 , 22.225  ]])}], 'Specification': ordereddict([('n_absolute', True), ('wavelength_vacuum', True)]), 'MetaComment': [' this file is part of refractiveindex.info database', ' refractiveindex.info database is in the public domain', ' copyright and related rights waived via CC0 1.0'], 'FilePath': 'D:\\\\Documents\\\\Work\\\\HZB\\\\Scripts\\\\Python\\\\refractive_index_database\\\\data\\\\RefractiveIndexInfo\\\\data\\\\main\\\\Ni\\\\Rakic-BB.yml'}\n"
     ]
    }
   ],
   "source": [
    "print(mat._file_data)"
   ]
  },
  {
   "cell_type": "code",
   "execution_count": 16,
   "metadata": {},
   "outputs": [
    {
     "name": "stdout",
     "output_type": "stream",
     "text": [
      "[0.1879 1.937 ]\n",
      "[ 300 2000]\n"
     ]
    }
   ],
   "source": [
    "Ag = mdb.get_material('Silver')\n",
    "print(Ag.data['real'].valid_range.values)\n",
    "Ag.extrapolate((300,2000))\n",
    "print(Ag.data['real'].valid_range.values)"
   ]
  },
  {
   "cell_type": "code",
   "execution_count": 13,
   "metadata": {},
   "outputs": [
    {
     "name": "stdout",
     "output_type": "stream",
     "text": [
      "\\data\\numerik\\people\\bzfmanle\\Simulations\\pypmj\\database\\RefractiveIndexInfo\\data\\main\\Ni\\Rakic-BB.yml\n"
     ]
    }
   ],
   "source": [
    "import os\n",
    "print(os.path.normpath(\"/data/numerik/people/bzfmanle/Simulations/pypmj/database/RefractiveIndexInfo/data\\\\main\\\\Ni\\\\Rakic-BB.yml\"))"
   ]
  },
  {
   "cell_type": "code",
   "execution_count": 9,
   "metadata": {},
   "outputs": [
    {
     "data": {
      "application/vnd.jupyter.widget-view+json": {
       "model_id": "3a1f44afb6014b61a778ae7c18a8dad3",
       "version_major": 2,
       "version_minor": 0
      },
      "text/plain": [
       "QgridWidget(grid_options={'fullWidthRows': True, 'syncColumnCellResize': True, 'forceFitColumns': True, 'defau…"
      ]
     },
     "metadata": {},
     "output_type": "display_data"
    }
   ],
   "source": [
    "mdb.view_interactive()"
   ]
  },
  {
   "cell_type": "code",
   "execution_count": 8,
   "metadata": {},
   "outputs": [],
   "source": [
    "mdb.save_interactive()\n",
    "mdb.save_to_file()"
   ]
  },
  {
   "cell_type": "code",
   "execution_count": 28,
   "metadata": {},
   "outputs": [],
   "source": [
    "aSi = mdb.get_material(\"amorphous_silicon\")"
   ]
  },
  {
   "cell_type": "code",
   "execution_count": 29,
   "metadata": {},
   "outputs": [
    {
     "data": {
      "image/png": "[encoded data removed]",
      "text/plain": [
       "<Figure size 432x288 with 1 Axes>"
      ]
     },
     "metadata": {
      "needs_background": "light"
     },
     "output_type": "display_data"
    }
   ],
   "source": [
    "aSi._plot_data('nk',values=np.linspace(310,800,100))"
   ]
  },
  {
   "cell_type": "code",
   "execution_count": 10,
   "metadata": {},
   "outputs": [
    {
     "name": "stdout",
     "output_type": "stream",
     "text": [
      "(-9.799934621455998, 0.3130884)\n"
     ]
    }
   ],
   "source": [
    "#wavelength = np.linspace(400,1000) # nm\n",
    "#spec = Spectrum(wavelength,unit='nanometer')\n",
    "\n",
    "ang_freq = spec.convert_to('angularfrequency','1/s')\n",
    "config = get_config()\n",
    "inputs = {'path':config['Path'],\n",
    "         'name':'Silver',\n",
    "         'EMOmega':ang_freq}\n",
    "eps = get_permittivity(inputs)\n",
    "print(eps)"
   ]
  },
  {
   "cell_type": "code",
   "execution_count": 38,
   "metadata": {},
   "outputs": [
    {
     "name": "stdout",
     "output_type": "stream",
     "text": [
      "3\n"
     ]
    },
    {
     "data": {
      "text/plain": [
       "[<matplotlib.lines.Line2D at 0x1bd4ebe4978>]"
      ]
     },
     "execution_count": 38,
     "metadata": {},
     "output_type": "execute_result"
    },
    {
     "data": {
      "image/png": "[encoded data removed]",
      "text/plain": [
       "<Figure size 432x288 with 1 Axes>"
      ]
     },
     "metadata": {
      "needs_background": "light"
     },
     "output_type": "display_data"
    }
   ],
   "source": [
    "mat = aSi\n",
    "mat.data['imag']\n",
    "values = np.linspace(310,800,100)\n",
    "spectrum = Spectrum(values,'wavelength','nanometer')\n",
    "n_values = mat.data['real'].evaluate(spectrum)\n",
    "plt.plot(values,n_values)\n",
    "spline = splrep(values,n_values,k=2)\n",
    "print(len(spline))\n",
    "extended_values = np.linspace(310,1200,100)\n",
    "recreatate = splev(extended_values,spline)\n",
    "plt.plot(extended_values,recreatate)\n",
    "#extrap = Extrapolation(Ag.data['real'],[0.1879,2.0],spectrum_type='wavelength',unit='micrometer')\n"
   ]
  },
  {
   "cell_type": "code",
   "execution_count": 24,
   "metadata": {},
   "outputs": [
    {
     "name": "stdout",
     "output_type": "stream",
     "text": [
      "30\n",
      "None\n",
      "True\n"
     ]
    }
   ],
   "source": [
    "tup = (None,30)\n",
    "print(tup[1])\n",
    "print(tup[0])\n",
    "print(tup[0]==None)"
   ]
  },
  {
   "cell_type": "code",
   "execution_count": null,
   "metadata": {},
   "outputs": [],
   "source": []
  }
 ],
 "metadata": {
  "kernelspec": {
   "display_name": "Python 3",
   "language": "python",
   "name": "python3"
  },
  "language_info": {
   "codemirror_mode": {
    "name": "ipython",
    "version": 3
   },
   "file_extension": ".py",
   "mimetype": "text/x-python",
   "name": "python",
   "nbconvert_exporter": "python",
   "pygments_lexer": "ipython3",
   "version": "3.6.8"
  }
 },
 "nbformat": 4,
 "nbformat_minor": 4
}
